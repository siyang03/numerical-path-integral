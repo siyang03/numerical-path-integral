{
 "cells": [
  {
   "cell_type": "code",
   "execution_count": 2,
   "id": "309c2bcd",
   "metadata": {},
   "outputs": [],
   "source": [
    "import numpy as np\n",
    "from numpy import linalg\n",
    "import matplotlib.pyplot as plt\n",
    "import time"
   ]
  },
  {
   "cell_type": "markdown",
   "id": "c2fcb434",
   "metadata": {},
   "source": [
    "# harmonic oscillator"
   ]
  },
  {
   "cell_type": "code",
   "execution_count": 64,
   "id": "9c773fa0",
   "metadata": {},
   "outputs": [
    {
     "name": "stdout",
     "output_type": "stream",
     "text": [
      "(T=1.5707963267948966, L=30, M=16000, N=15, (Nscale=0))\n",
      "Estimated time: 0h 0min 23s\n",
      "coeff of K = (0.003376186185589148-0.003376186185589148j)\n",
      "coeff of K^(N+1) = (7.295619606198416e-38+0j)\n",
      "|coeff of K^(N+1)|^2 = 5.322606543834672e-75\n"
     ]
    }
   ],
   "source": [
    "omega = 1\n",
    "m = 1\n",
    "alpha = 1\n",
    "\n",
    "T = 0.5*np.pi/omega\n",
    "Nscale = 0\n",
    "L = 30\n",
    "M = 16000\n",
    "N = int(10*T)\n",
    "x = np.linspace(-L, L, M + 1)\n",
    "dx = 2*L/M\n",
    "dt = T/(N + 1)\n",
    "#---------------------------------------------------------\n",
    "#time_seconds = np.log(N) * M**3 * 1.8e-10\n",
    "time_seconds = N * M**2 * 6e-9\n",
    "hours = int(time_seconds // 3600)\n",
    "minutes = int((time_seconds % 3600) // 60)\n",
    "seconds = int(time_seconds % 60)\n",
    "print(f'(T='+f'{T}'+', L='+f'{L}'+', M='+f'{M}'+', N='+f'{N}'+', (Nscale='+f'{Nscale}'+'))')\n",
    "print(f\"Estimated time: {hours}h {minutes}min {seconds}s\")\n",
    "coK = dx * (m/(2*np.pi*1j*dt))**(1/2)\n",
    "coK_power = coK**(N+1)\n",
    "print(f'coeff of K = {coK}')\n",
    "print(f'coeff of K^(N+1) = {coK_power}')\n",
    "print(f'|coeff of K^(N+1)|^2 = {(coK_power.real)**2 + (coK_power.imag)**2}')"
   ]
  },
  {
   "cell_type": "code",
   "execution_count": 68,
   "id": "d6b6379d",
   "metadata": {},
   "outputs": [
    {
     "name": "stdout",
     "output_type": "stream",
     "text": [
      "(T=1.5707963267948966, L=30, M=16000, N=15, (Nscale=0))\n",
      "ta = 72.034s\n",
      "t/complexity = 7.851185835897923e-09\n"
     ]
    }
   ],
   "source": [
    "print(f'(T='+f'{T}'+', L='+f'{L}'+', M='+f'{M}'+', N='+f'{N}'+', (Nscale='+f'{Nscale}'+'))')\n",
    "ta_start = time.time()\n",
    "psi_0 = (m*omega / np.pi)**(1/4) * np.exp(- m*omega/2 * (x - np.sqrt(2/(m*omega)) * alpha.real)**2 + 1j * np.sqrt(2*m*omega) * alpha.imag * x - 1j * alpha.real * alpha.imag)\n",
    "\n",
    "# Assuming x is a NumPy array\n",
    "x = np.asarray(x)\n",
    "X_i, X_j = np.meshgrid(x, x, indexing='ij')\n",
    "weight1 = 1\n",
    "weight2 = 1\n",
    "K = (m / (2 * np.pi * 1j * dt))**0.5 * (\n",
    "    np.exp(1j * (m / 2 * (X_i - X_j)**2 / dt)) * (weight1*np.exp((- 1j * dt * m*omega**2/2 * X_i**2)) + weight2*np.exp((- 1j * dt * m*omega**2/2 * X_j**2)))/(weight1+weight2)\n",
    ")\n",
    "#print(f'condition(K) = {np.linalg.cond(K)}')\n",
    "\n",
    "run_time_start = time.time()\n",
    "print(f'ta = {run_time_start - ta_start:.3f}s')\n",
    "psi_final = psi_0\n",
    "for i in range(N+1):\n",
    "    psi_final = dx * K @ psi_final\n",
    "run_time_end = time.time()\n",
    "\n",
    "#print(f't/complexity = {(run_time_end-run_time_start)/(np.log(N) * M**3)}')\n",
    "print(f't/complexity = {(run_time_end-run_time_start)/(N * M**2)}')\n",
    "np.save('data/(T='+f'{T}'+', L='+f'{L}'+', M='+f'{M}'+', N='+f'{N}'+', (Nscale='+f'{Nscale}'+')) - psi_final.npy', psi_final)"
   ]
  },
  {
   "cell_type": "code",
   "execution_count": 72,
   "id": "0f402553",
   "metadata": {},
   "outputs": [
    {
     "data": {
      "image/png": "[encoded data removed]",
      "text/plain": [
       "<Figure size 300x300 with 1 Axes>"
      ]
     },
     "metadata": {},
     "output_type": "display_data"
    },
    {
     "name": "stdout",
     "output_type": "stream",
     "text": [
      "A = 0.563660 * 10^(0)\n",
      "1\n",
      "A_analytically = 0.9999999999999969\n"
     ]
    }
   ],
   "source": [
    "load = 0\n",
    "if load == 0:\n",
    "    psi_final = np.load('data/(T='+f'{T}'+', L='+f'{L}'+', M='+f'{M}'+', N='+f'{N}'+', (Nscale='+f'{Nscale}'+')) - psi_final.npy')\n",
    "else: # load == 1\n",
    "    psi_final = np.load('data/(T=0.5, L=400, M=12000, N=5, (Nscale=0)) - psi_final.npy')\n",
    "    T=0.5\n",
    "    L=400\n",
    "    M=12000\n",
    "    N=5\n",
    "\n",
    "    x = np.linspace(-L, L, M+1)\n",
    "    dx = 2*L/M\n",
    "\n",
    "rho_final = (psi_final.real)**2 + (psi_final.imag)**2\n",
    "xmax = 5\n",
    "xmin = -5\n",
    "rho_renormalized = []\n",
    "for i in range(len(psi_final)):\n",
    "    if x[i] + dx > xmin and x[i] - dx < xmax:\n",
    "        rho_renormalized.append(rho_final[i])\n",
    "    else:\n",
    "        rho_renormalized.append(0)\n",
    "rho_renormalized = np.array(rho_renormalized)\n",
    "A = 1 #sum(rho_renormalized) * dx\n",
    "rho_renormalized = rho_renormalized / A\n",
    "fig, ax = plt.subplots(figsize=(3,3))\n",
    "ax.plot(x, rho_renormalized)\n",
    "m=1\n",
    "omega=1\n",
    "alpha_t = alpha * np.exp(- 1j * omega * T)\n",
    "psi_analytically = (m*omega / np.pi)**(1/4) * np.exp(\n",
    "    - m*omega/2 * (x - np.sqrt(2/(m*omega)) * alpha_t.real)**2 + 1j * np.sqrt(2*m*omega) * alpha_t.imag * x + 1j * (- omega*T/2 - alpha_t.real * alpha_t.imag)\n",
    ")\n",
    "rho_analytically = (psi_analytically.real)**2 + (psi_analytically.imag)**2\n",
    "#rho_analytically = np.sqrt(m*omega/np.pi) * np.exp(-m*omega*(x - np.sqrt(2/(m*omega)) * alpha_t.real)**2)\n",
    "A_analytically = sum(rho_analytically) * dx\n",
    "ax.plot(x, rho_analytically, linestyle='--', linewidth=0.5, color='black', label='analytical result')\n",
    "rho_0 = np.sqrt(m*omega/np.pi) * np.exp(-m*omega*(x - np.sqrt(2/(m*omega)) * alpha.real)**2)\n",
    "ax.plot(x, rho_0, linestyle=':', linewidth=0.5, color='black', label='$\\\\rho(t = 0, x)$')\n",
    "ax.axvline(x=0, linestyle='-', linewidth=0.5, color='black')\n",
    "ax.set_title('$L = '+f'{L}'+', M = '+f'{M}'+', N = '+f'{N}$')\n",
    "ax.set_xlabel('$x$')\n",
    "#ax.set_ylabel('$\\\\rho(T = '+f'{T}'+', x)$')\n",
    "ax.set_ylabel('$\\\\rho(T = \\\\frac{\\\\pi}{2}, x)$')\n",
    "ax.set_xlim(xmin, xmax)\n",
    "ax.set_ylim(0, 1)\n",
    "ax.legend()\n",
    "plt.tight_layout()\n",
    "plt.savefig('numerical path integral (normalized) of a harmonic oscillator with initial state as a coherent state and T='+f'{T}'+' (L='+f'{L}'+', M='+f'{M}'+', N='+f'{N}'+').pdf', format='pdf')\n",
    "plt.show()\n",
    "\n",
    "Ascale = int(np.log(rho_final[int(M/2)])/np.log(10))\n",
    "print(f'A = {(rho_final[int(M/2)] / 10**Ascale):1f} * 10^({Ascale})')\n",
    "print(A)\n",
    "print(f'A_analytically = {A_analytically}')"
   ]
  }
 ],
 "metadata": {
  "kernelspec": {
   "display_name": "Python 3",
   "language": "python",
   "name": "python3"
  },
  "language_info": {
   "codemirror_mode": {
    "name": "ipython",
    "version": 3
   },
   "file_extension": ".py",
   "mimetype": "text/x-python",
   "name": "python",
   "nbconvert_exporter": "python",
   "pygments_lexer": "ipython3",
   "version": "3.13.1"
  }
 },
 "nbformat": 4,
 "nbformat_minor": 5
}
