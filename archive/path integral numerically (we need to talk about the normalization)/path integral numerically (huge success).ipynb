{
 "cells": [
  {
   "cell_type": "code",
   "execution_count": 1,
   "id": "210c7944",
   "metadata": {},
   "outputs": [],
   "source": [
    "import numpy as np\n",
    "from numpy import linalg\n",
    "import matplotlib.pyplot as plt\n",
    "import time"
   ]
  },
  {
   "cell_type": "code",
   "execution_count": 15,
   "id": "69c4e078",
   "metadata": {},
   "outputs": [
    {
     "name": "stdout",
     "output_type": "stream",
     "text": [
      "(T=1, L=400, M=20000, N=10, (Nscale=0))\n",
      "Estimated time: 0h 0min 24s\n",
      "coeff of K = (0.03742410318509556-0.03742410318509556j)\n",
      "coeff of K^(N+1) = (-6.4537984614450555e-15-6.4537984614450555e-15j)\n",
      "|coeff of K^(N+1)|^2 = 8.330302916190113e-29\n"
     ]
    }
   ],
   "source": [
    "k0 = 1\n",
    "m = 1\n",
    "\n",
    "T = 1\n",
    "Nscale = 0\n",
    "L = 400\n",
    "M = 20000\n",
    "N = int(10*T)\n",
    "x = np.linspace(-L, L, M + 1)\n",
    "dx = 2*L/M\n",
    "dt = T/(N + 1)\n",
    "#---------------------------------------------------------\n",
    "#time_seconds = np.log(N) * M**3 * 1.8e-10\n",
    "time_seconds = N * M**2 * 6e-9\n",
    "hours = int(time_seconds // 3600)\n",
    "minutes = int((time_seconds % 3600) // 60)\n",
    "seconds = int(time_seconds % 60)\n",
    "print(f'(T='+f'{T}'+', L='+f'{L}'+', M='+f'{M}'+', N='+f'{N}'+', (Nscale='+f'{Nscale}'+'))')\n",
    "print(f\"Estimated time: {hours}h {minutes}min {seconds}s\")\n",
    "coK = dx * (m/(2*np.pi*1j*dt))**(1/2)\n",
    "coK_power = coK**(N+1)\n",
    "print(f'coeff of K = {coK}')\n",
    "print(f'coeff of K^(N+1) = {coK_power}')\n",
    "print(f'|coeff of K^(N+1)|^2 = {(coK_power.real)**2 + (coK_power.imag)**2}')"
   ]
  },
  {
   "cell_type": "code",
   "execution_count": 16,
   "id": "aafcaeac",
   "metadata": {},
   "outputs": [
    {
     "name": "stdout",
     "output_type": "stream",
     "text": [
      "(T=1, L=400, M=20000, N=10, (Nscale=0))\n",
      "t/complexity = 1.0591229200363159e-09\n"
     ]
    }
   ],
   "source": [
    "print(f'(T='+f'{T}'+', L='+f'{L}'+', M='+f'{M}'+', N='+f'{N}'+', (Nscale='+f'{Nscale}'+'))')\n",
    "psi_0 = (2 / np.pi)**(1/4) * np.exp(- x**2 + 1j * k0 * x)\n",
    "'''\n",
    "K = []\n",
    "for xi in x:\n",
    "    Ki = []\n",
    "    for xj in x:\n",
    "        Kij = (m / (2 * np.pi * 1j * dt))**0.5 * np.exp(1j * (m / 2 * (xi - xj)**2/dt))\n",
    "        Ki.append(Kij)\n",
    "    K.append(Ki)\n",
    "K = np.array(K)\n",
    "'''\n",
    "# Assuming x is a NumPy array\n",
    "x = np.asarray(x)\n",
    "X_i, X_j = np.meshgrid(x, x, indexing='ij')\n",
    "K = np.exp(1j * (m / 2 * (X_i - X_j)**2 / dt)) #(m / (2 * np.pi * 1j * dt))**0.5 * \n",
    "#print(f'condition(K) = {np.linalg.cond(K)}')\n",
    "\n",
    "run_time_start = time.time()\n",
    "#KpowerN = K\n",
    "#for i in range(N):\n",
    "#    KpowerN = KpowerN @ K # K^{N + 1}\n",
    "psi_final = psi_0\n",
    "for i in range(N+1):\n",
    "    psi_final = K @ psi_final #dx *\n",
    "psi_final = coK_power * psi_final\n",
    "run_time_end = time.time()\n",
    "\n",
    "#print(f't/complexity = {(run_time_end-run_time_start)/(np.log(N) * M**3)}')\n",
    "print(f't/complexity = {(run_time_end-run_time_start)/(N * M**2)}')\n",
    "np.save('data/(T='+f'{T}'+', L='+f'{L}'+', M='+f'{M}'+', N='+f'{N}'+', (Nscale='+f'{Nscale}'+')) - psi_final.npy', psi_final)"
   ]
  },
  {
   "cell_type": "code",
   "execution_count": 17,
   "id": "c6214237",
   "metadata": {},
   "outputs": [
    {
     "data": {
      "image/png": "[encoded data removed]",
      "text/plain": [
       "<Figure size 300x300 with 1 Axes>"
      ]
     },
     "metadata": {},
     "output_type": "display_data"
    },
    {
     "name": "stdout",
     "output_type": "stream",
     "text": [
      "A = 4.373176 * 10^(29)\n"
     ]
    }
   ],
   "source": [
    "load = 0\n",
    "if load == 0:\n",
    "    psi_final = np.load('data/(T='+f'{T}'+', L='+f'{L}'+', M='+f'{M}'+', N='+f'{N}'+', (Nscale='+f'{Nscale}'+')) - psi_final.npy')\n",
    "else: # load == 1\n",
    "    psi_final = np.load('data/(T=0.5, L=400, M=12000, N=5, (Nscale=0)) - psi_final.npy')\n",
    "    T=0.5\n",
    "    L=400\n",
    "    M=12000\n",
    "    N=5\n",
    "\n",
    "rho_final = (psi_final.real)**2 + (psi_final.imag)**2\n",
    "xmax = 5\n",
    "xmin = -3\n",
    "x = np.linspace(-L, L, M+1)\n",
    "dx = 2*L/M\n",
    "rho_renormalized = []\n",
    "for i in range(len(psi_final)):\n",
    "    if x[i] + dx > xmin and x[i] - dx < xmax:\n",
    "        rho_renormalized.append(rho_final[i])\n",
    "    else:\n",
    "        rho_renormalized.append(0)\n",
    "rho_renormalized = np.array(rho_renormalized)\n",
    "A = sum(rho_renormalized) * dx\n",
    "rho_renormalized = rho_renormalized / A\n",
    "fig, ax = plt.subplots(figsize=(3,3))\n",
    "ax.plot(x, rho_renormalized)\n",
    "m=1\n",
    "k0=1\n",
    "psi_analytically = (2/np.pi)**(1/4) * np.sqrt(m/(m + 1j * 2 * T)) * np.exp(m/(m + 1j * 2 * T) * (- x**2 + 1j * k0 * x) - 1j * k0**2 / (2 * (m + 1j * 2 * T)) * T)\n",
    "rho_analytically = (psi_analytically.real)**2 + (psi_analytically.imag)**2\n",
    "ax.plot(x, rho_analytically, linestyle='--', linewidth=0.5, color='black', label='analytical result')\n",
    "ax.axvline(x=0, linestyle='-', linewidth=0.5, color='black')\n",
    "ax.set_title('$L = '+f'{L}'+', M = '+f'{M}'+', N = '+f'{N}$')\n",
    "ax.set_xlabel('$x$')\n",
    "ax.set_ylabel('$\\\\rho(T = '+f'{T}'+', x)$')\n",
    "ax.set_xlim(xmin, xmax)\n",
    "ax.set_ylim(0, 1)\n",
    "ax.legend()\n",
    "plt.tight_layout()\n",
    "plt.savefig('path integral numerically (normalized) of a free particle with initial state as a Gaussian wave packet and T='+f'{T}'+' (L='+f'{L}'+', M='+f'{M}'+', N='+f'{N}'+').pdf', format='pdf')\n",
    "plt.show()\n",
    "\n",
    "Ascale = int(np.log(rho_final[int(M/2)])/np.log(10))\n",
    "print(f'A = {(rho_final[int(M/2)] / 10**Ascale):1f} * 10^({Ascale})')"
   ]
  }
 ],
 "metadata": {
  "kernelspec": {
   "display_name": "cupy-env",
   "language": "python",
   "name": "python3"
  },
  "language_info": {
   "codemirror_mode": {
    "name": "ipython",
    "version": 3
   },
   "file_extension": ".py",
   "mimetype": "text/x-python",
   "name": "python",
   "nbconvert_exporter": "python",
   "pygments_lexer": "ipython3",
   "version": "3.11.11"
  }
 },
 "nbformat": 4,
 "nbformat_minor": 5
}
