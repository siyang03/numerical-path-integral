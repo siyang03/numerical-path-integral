{
 "cells": [
  {
   "cell_type": "code",
   "execution_count": 1,
   "id": "210c7944",
   "metadata": {},
   "outputs": [],
   "source": [
    "import numpy as np\n",
    "from numpy import linalg\n",
    "import matplotlib.pyplot as plt\n",
    "import time"
   ]
  },
  {
   "cell_type": "code",
   "execution_count": 11,
   "id": "69c4e078",
   "metadata": {},
   "outputs": [
    {
     "name": "stdout",
     "output_type": "stream",
     "text": [
      "(T=0.1, L=300, M=9000, N=1, (Nscale=0))\n",
      "Estimated time: 0h 0min 12s\n"
     ]
    }
   ],
   "source": [
    "T = 0.1\n",
    "Nscale = 0\n",
    "L = 300\n",
    "M = 9000\n",
    "N = 1\n",
    "x = np.linspace(-L, L, M + 1)\n",
    "dx = 2*L/M\n",
    "dt = T/(N + 1)\n",
    "#---------------------------------------------------------\n",
    "#time_seconds = np.log(N) * M**3 * 1.8e-10\n",
    "time_seconds = N * M**2 * 1.6e-7\n",
    "hours = int(time_seconds // 3600)\n",
    "minutes = int((time_seconds % 3600) // 60)\n",
    "seconds = int(time_seconds % 60)\n",
    "print(f'(T='+f'{T}'+', L='+f'{L}'+', M='+f'{M}'+', N='+f'{N}'+', (Nscale='+f'{Nscale}'+'))')\n",
    "print(f\"Estimated time: {hours}h {minutes}min {seconds}s\")"
   ]
  },
  {
   "cell_type": "code",
   "execution_count": 12,
   "id": "aafcaeac",
   "metadata": {},
   "outputs": [
    {
     "name": "stdout",
     "output_type": "stream",
     "text": [
      "(T=0.1, L=300, M=9000, N=1, (Nscale=0))\n",
      "t/complexity = inf\n"
     ]
    },
    {
     "name": "stderr",
     "output_type": "stream",
     "text": [
      "C:\\Users\\siyang\\AppData\\Local\\Temp\\ipykernel_10848\\1276014990.py:30: RuntimeWarning: divide by zero encountered in scalar divide\n",
      "  print(f't/complexity = {(run_time_end-run_time_start)/(np.log(N) * M**3)}')\n"
     ]
    }
   ],
   "source": [
    "print(f'(T='+f'{T}'+', L='+f'{L}'+', M='+f'{M}'+', N='+f'{N}'+', (Nscale='+f'{Nscale}'+'))')\n",
    "k0 = 1\n",
    "m = 1\n",
    "psi_0 = (2 / np.pi)**(1/4) * np.exp(- x**2 + 1j * k0 * x)\n",
    "'''\n",
    "K = []\n",
    "for xi in x:\n",
    "    Ki = []\n",
    "    for xj in x:\n",
    "        Kij = (m / (2 * np.pi * 1j * dt))**0.5 * np.exp(1j * (m / 2 * (xi - xj)**2/dt))\n",
    "        Ki.append(Kij)\n",
    "    K.append(Ki)\n",
    "K = np.array(K)\n",
    "'''\n",
    "# Assuming x is a NumPy array\n",
    "x = np.asarray(x)\n",
    "X_i, X_j = np.meshgrid(x, x, indexing='ij')\n",
    "K = (m / (2 * np.pi * 1j * dt))**0.5 * np.exp(1j * (m / 2 * (X_i - X_j)**2 / dt))\n",
    "#print(f'condition(K) = {np.linalg.cond(K)}')\n",
    "\n",
    "run_time_start = time.time()\n",
    "#KpowerN = K\n",
    "#for i in range(N):\n",
    "#    KpowerN = KpowerN @ K # K^{N + 1}\n",
    "KpowerN = np.linalg.matrix_power(K, N+1)\n",
    "run_time_end = time.time()\n",
    "\n",
    "psi_final = dx**(N + 1) * KpowerN @ psi_0\n",
    "\n",
    "print(f't/complexity = {(run_time_end-run_time_start)/(np.log(N) * M**3)}')\n",
    "#print(f't/complexity = {(run_time_end-run_time_start)/(N * M**2)}')\n",
    "np.save('data/(T='+f'{T}'+', L='+f'{L}'+', M='+f'{M}'+', N='+f'{N}'+', (Nscale='+f'{Nscale}'+')) - psi_final.npy', psi_final)"
   ]
  },
  {
   "cell_type": "code",
   "execution_count": 13,
   "id": "c6214237",
   "metadata": {},
   "outputs": [
    {
     "data": {
      "image/png": "[encoded data removed]",
      "text/plain": [
       "<Figure size 400x300 with 1 Axes>"
      ]
     },
     "metadata": {},
     "output_type": "display_data"
    },
    {
     "name": "stdout",
     "output_type": "stream",
     "text": [
      "A = 2.259050 * 10^(2)\n"
     ]
    }
   ],
   "source": [
    "load = 0\n",
    "if load == 0:\n",
    "    psi_final = np.load('data/(T='+f'{T}'+', L='+f'{L}'+', M='+f'{M}'+', N='+f'{N}'+', (Nscale='+f'{Nscale}'+')) - psi_final.npy')\n",
    "else: # load == 1\n",
    "    psi_final = np.load('data/(T=0.1, L=300.0, M=9001, N=4, (Nscale=30)) - psi_final.npy')\n",
    "    T=0.1\n",
    "    L=300\n",
    "    M=9001-1\n",
    "    N=4\n",
    "\n",
    "rho_final = (psi_final.real)**2 + (psi_final.imag)**2\n",
    "xmax = 2\n",
    "x = np.linspace(-L, L, M+1)\n",
    "dx = 2*L/M\n",
    "rho_renormalized = []\n",
    "for i in range(len(psi_final)):\n",
    "    if x[i] + dx > - xmax and x[i] - dx < xmax:\n",
    "        rho_renormalized.append(rho_final[i])\n",
    "    else:\n",
    "        rho_renormalized.append(0)\n",
    "rho_renormalized = np.array(rho_renormalized)\n",
    "A = sum(rho_renormalized) * dx\n",
    "rho_renormalized = rho_renormalized / A\n",
    "fig, ax = plt.subplots(figsize=(4,3))\n",
    "ax.plot(x, rho_renormalized)\n",
    "psi_analytically = (2/np.pi)**(1/4) * np.sqrt(m/(m + 1j * 2 * T)) * np.exp(m/(m + 1j * 2 * T) * (- x**2 + 1j * k0 * x) - 1j * k0**2 / (2 * (m + 1j * 2 * T)) * T)\n",
    "rho_analytically = (psi_analytically.real)**2 + (psi_analytically.imag)**2\n",
    "ax.plot(x, rho_analytically, linestyle='--', linewidth=0.5, color='black', label='analytical result')\n",
    "ax.axvline(x=0, linestyle='-', linewidth=0.5, color='black')\n",
    "ax.set_title('$L = '+f'{L}'+', M = '+f'{M}'+', N = '+f'{N}$')\n",
    "ax.set_xlabel('$x$')\n",
    "ax.set_ylabel('$\\\\rho(T = '+f'{T}'+', x)$')\n",
    "ax.set_xlim(-xmax, xmax)\n",
    "ax.set_ylim(0, 1)\n",
    "ax.legend()\n",
    "plt.tight_layout()\n",
    "plt.savefig('path integral numerically (normalized) of a free particle with initial state as a Gaussian wave packet and T='+f'{T}'+' (L='+f'{L}'+', M='+f'{M}'+', N='+f'{N}'+').pdf', format='pdf')\n",
    "plt.show()\n",
    "\n",
    "Ascale = int(np.log(rho_final[int(M/2)])/np.log(10))\n",
    "print(f'A = {(rho_final[int(M/2)] / 10**Ascale):1f} * 10^({Ascale})')"
   ]
  }
 ],
 "metadata": {
  "kernelspec": {
   "display_name": "Python 3",
   "language": "python",
   "name": "python3"
  },
  "language_info": {
   "codemirror_mode": {
    "name": "ipython",
    "version": 3
   },
   "file_extension": ".py",
   "mimetype": "text/x-python",
   "name": "python",
   "nbconvert_exporter": "python",
   "pygments_lexer": "ipython3",
   "version": "3.13.1"
  }
 },
 "nbformat": 4,
 "nbformat_minor": 5
}
