{
 "cells": [
  {
   "cell_type": "code",
   "execution_count": null,
   "id": "c5f5960a",
   "metadata": {},
   "outputs": [],
   "source": [
    "import numpy as np\n",
    "import matplotlib.pyplot as plt\n",
    "\n",
    "L = 500\n",
    "T = 1\n",
    "Nscale = 30\n",
    "N = int(T+1) * Nscale\n",
    "M = int(L+1) * Nscale\n",
    "x = np.linspace(-L, L, M)\n",
    "dx = 2*L/(M-1)\n",
    "dt = T/(N - 1 + 1)\n",
    "\n",
    "k0 = 1\n",
    "m = 1\n",
    "psi_0 = (2 / np.pi)**(1/4) * np.exp(- x**2 + 1j * k0 * x)\n",
    "K = []\n",
    "for xi in x:\n",
    "    Ki = []\n",
    "    for xj in x:\n",
    "        Kij = (m / (2 * np.pi * 1j * dt))**0.5 * np.exp(1j * (m / 2 * (xi - xj)**2/dt))\n",
    "        Ki.append(Kij)\n",
    "    K.append(Ki)\n",
    "K = np.array(K)\n",
    "KpowerN = K\n",
    "for i in range(N):\n",
    "    KpowerN = KpowerN @ K # K^{N + 1}\n",
    "psi_final = dx**(N + 1) * KpowerN @ psi_0"
   ]
  },
  {
   "cell_type": "code",
   "execution_count": null,
   "id": "03fca556",
   "metadata": {},
   "outputs": [],
   "source": [
    "rho_final = (psi_final.real)**2 + (psi_final.imag)**2\n",
    "fig, ax = plt.subplots(figsize=(4, 3))\n",
    "ax.plot(x, rho_final)\n",
    "ax.set_xlim(-L/100, L/100)\n",
    "ax.axhline(y=0, linestyle='-', linewidth=0.5, color='black')\n",
    "plt.show()"
   ]
  },
  {
   "cell_type": "code",
   "execution_count": null,
   "id": "10ae6eee",
   "metadata": {},
   "outputs": [],
   "source": []
  }
 ],
 "metadata": {
  "kernelspec": {
   "display_name": "Python 3",
   "language": "python",
   "name": "python3"
  },
  "language_info": {
   "name": "python",
   "version": "3.13.1"
  }
 },
 "nbformat": 4,
 "nbformat_minor": 5
}
