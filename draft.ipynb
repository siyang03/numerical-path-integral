{
 "cells": [
  {
   "cell_type": "code",
   "execution_count": 1,
   "id": "4f9030e5",
   "metadata": {},
   "outputs": [
    {
     "name": "stdout",
     "output_type": "stream",
     "text": [
      "[[ 37  54]\n",
      " [ 81 118]]\n"
     ]
    }
   ],
   "source": [
    "import cupy as cp\n",
    "\n",
    "# Define the matrix\n",
    "A = cp.array([[1, 2], [3, 4]])\n",
    "\n",
    "# Compute the matrix power (e.g., A**3)\n",
    "A_power = cp.linalg.matrix_power(A, 3)\n",
    "\n",
    "print(A_power)"
   ]
  },
  {
   "cell_type": "code",
   "execution_count": 3,
   "id": "6e27be36",
   "metadata": {},
   "outputs": [
    {
     "name": "stdout",
     "output_type": "stream",
     "text": [
      "[[ 37  54]\n",
      " [ 81 118]]\n"
     ]
    }
   ],
   "source": [
    "import numpy as np\n",
    "A = np.array([[1, 2], [3, 4]])\n",
    "print(A@A@A)"
   ]
  }
 ],
 "metadata": {
  "kernelspec": {
   "display_name": "cupy-env",
   "language": "python",
   "name": "python3"
  },
  "language_info": {
   "codemirror_mode": {
    "name": "ipython",
    "version": 3
   },
   "file_extension": ".py",
   "mimetype": "text/x-python",
   "name": "python",
   "nbconvert_exporter": "python",
   "pygments_lexer": "ipython3",
   "version": "3.11.11"
  }
 },
 "nbformat": 4,
 "nbformat_minor": 5
}
