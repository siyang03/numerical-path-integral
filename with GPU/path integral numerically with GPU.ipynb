{
 "cells": [
  {
   "cell_type": "code",
   "execution_count": 3,
   "id": "84f58d47",
   "metadata": {},
   "outputs": [
    {
     "name": "stdout",
     "output_type": "stream",
     "text": [
      "Using device: <CUDA Device 0>\n",
      "Device name: b'NVIDIA GeForce MX450'\n"
     ]
    }
   ],
   "source": [
    "import numpy as np\n",
    "#from numpy import linalg\n",
    "import cupy as cp # need Python 3.11\n",
    "from cupy import linalg\n",
    "import matplotlib.pyplot as plt\n",
    "import time\n",
    "#-------------------------------------------------------------------------------------\n",
    "# Check the current device\n",
    "device = cp.cuda.Device()\n",
    "print(f\"Using device: {device}\")  # Outputs something like \"Device 0\" if GPU is active\n",
    "# Get device properties\n",
    "props = cp.cuda.runtime.getDeviceProperties(0)\n",
    "print(f\"Device name: {props['name']}\")"
   ]
  },
  {
   "cell_type": "markdown",
   "id": "3f1fbd83",
   "metadata": {},
   "source": [
    "# free particle with initial state as a Gaussian wave packet"
   ]
  },
  {
   "cell_type": "code",
   "execution_count": 11,
   "id": "d82ede67",
   "metadata": {},
   "outputs": [
    {
     "name": "stdout",
     "output_type": "stream",
     "text": [
      "(T=0.1, L=300.0, M=9000, N=4, (Nscale=30))\n",
      "Estimated gpu time: 0h 4min 46s\n"
     ]
    }
   ],
   "source": [
    "T = 0.1\n",
    "Nscale = 30\n",
    "L = Nscale*100*T\n",
    "N = int(T * Nscale + 1)\n",
    "M = int(L * Nscale)\n",
    "x = cp.linspace(-L, L, M + 1)\n",
    "dx = 2*L/M\n",
    "dt = T/(N + 1)\n",
    "#---------------------------------------------------------\n",
    "time_seconds = np.log(N) * M**3 * 2.83e-10\n",
    "hours = int(time_seconds // 3600)\n",
    "minutes = int((time_seconds % 3600) // 60)\n",
    "seconds = int(time_seconds % 60)\n",
    "print(f'(T='+f'{T}'+', L='+f'{L}'+', M='+f'{M}'+', N='+f'{N}'+', (Nscale='+f'{Nscale}'+'))')\n",
    "print(f\"Estimated gpu time: {hours}h {minutes}min {seconds}s\")"
   ]
  },
  {
   "cell_type": "code",
   "execution_count": 12,
   "id": "87b69219",
   "metadata": {},
   "outputs": [
    {
     "name": "stdout",
     "output_type": "stream",
     "text": [
      "t/complexity = 8.536552911639542e-10\n",
      "ta = 0.07min\n",
      "tb = 14.38min\n",
      "tc = 0.02min\n"
     ]
    }
   ],
   "source": [
    "cp.cuda.Device().synchronize()\n",
    "run_timea_start = time.time()\n",
    "k0 = 1\n",
    "m = 1\n",
    "psi_0 = (2 / cp.pi)**(1/4) * cp.exp(- x**2 + 1j * k0 * x)\n",
    "\n",
    "X_i, X_j = cp.meshgrid(x, x, indexing='ij')\n",
    "K = (m / (2 * cp.pi * 1j * dt))**0.5 * cp.exp(1j * (m / 2 * (X_i - X_j)**2 / dt))\n",
    "\n",
    "cp.cuda.Device().synchronize()\n",
    "run_timeb_start = time.time()\n",
    "KpowerN = cp.linalg.matrix_power(K, N+1)\n",
    "cp.cuda.Device().synchronize()\n",
    "run_timeb_end = time.time()\n",
    "\n",
    "psi_final = dx**(N + 1) * KpowerN @ psi_0\n",
    "cp.save('data/(T='+f'{T}'+', L='+f'{L}'+', M='+f'{M}'+', N='+f'{N}'+', (Nscale='+f'{Nscale}'+')) - psi_final_cpu.npy', psi_final)\n",
    "cp.cuda.Device().synchronize()\n",
    "run_timec_end = time.time()\n",
    "print(f't/complexity = {(run_timeb_end-run_timeb_start)/(np.log(N) * M**3)}')\n",
    "print(f'ta = {(run_timeb_start - run_timea_start)/60:.2f}min')\n",
    "print(f'tb = {(run_timeb_end - run_timeb_start)/60:.2f}min')\n",
    "print(f'tc = {(run_timec_end - run_timeb_end)/60:.2f}min')"
   ]
  },
  {
   "cell_type": "code",
   "execution_count": 13,
   "id": "c17696fc",
   "metadata": {},
   "outputs": [
    {
     "data": {
      "image/png": "[encoded data removed]",
      "text/plain": [
       "<Figure size 400x300 with 1 Axes>"
      ]
     },
     "metadata": {},
     "output_type": "display_data"
    },
    {
     "name": "stdout",
     "output_type": "stream",
     "text": [
      "A = 3.116972 * 10^(11)\n"
     ]
    }
   ],
   "source": [
    "load = 0\n",
    "if load == 0:\n",
    "    psi_final = cp.asnumpy(cp.load('data/(T='+f'{T}'+', L='+f'{L}'+', M='+f'{M}'+', N='+f'{N}'+', (Nscale='+f'{Nscale}'+')) - psi_final_cpu.npy'))\n",
    "else: # load == 1\n",
    "    psi_final = cp.asnumpy(cp.load('data/(T=0.05, L=150.0, M=4500, N=2, (Nscale=30)) - psi_final_cpu.npy'))\n",
    "    T=0.05\n",
    "    L=150\n",
    "    M=4500\n",
    "    N=2\n",
    "\n",
    "rho_final = (psi_final.real)**2 + (psi_final.imag)**2\n",
    "xmax = 2\n",
    "x = np.linspace(-L, L, M+1)\n",
    "dx = 2*L/M\n",
    "rho_renormalized = []\n",
    "for i in range(len(psi_final)):\n",
    "    if x[i] + dx > - xmax and x[i] - dx < xmax:\n",
    "        rho_renormalized.append(rho_final[i])\n",
    "    else:\n",
    "        rho_renormalized.append(0)\n",
    "rho_renormalized = np.array(rho_renormalized)\n",
    "A = sum(rho_renormalized) * dx\n",
    "rho_renormalized = rho_renormalized / A\n",
    "fig, ax = plt.subplots(figsize=(4,3))\n",
    "ax.plot(x, rho_renormalized)\n",
    "psi_analytically = (2/np.pi)**(1/4) * np.sqrt(m/(m + 1j * 2 * T)) * np.exp(m/(m + 1j * 2 * T) * (- x**2 + 1j * k0 * x) - 1j * k0**2 / (2 * (m + 1j * 2 * T)) * T)\n",
    "rho_analytically = (psi_analytically.real)**2 + (psi_analytically.imag)**2\n",
    "ax.plot(x, rho_analytically, linestyle='--', linewidth=0.5, color='black', label='analytical result')\n",
    "ax.axvline(x=0, linestyle='-', linewidth=0.5, color='black')\n",
    "ax.set_title('$L = '+f'{L}'+', M = '+f'{M}'+', N = '+f'{N}$')\n",
    "ax.set_xlabel('$x$')\n",
    "ax.set_ylabel('$\\\\rho(T = '+f'{T}'+', x)$')\n",
    "ax.set_xlim(-xmax, xmax)\n",
    "ax.set_ylim(0, 1)\n",
    "ax.legend()\n",
    "plt.tight_layout()\n",
    "plt.savefig('path integral numerically (normalized) of a free particle with initial state as a Gaussian wave packet and T='+f'{T}'+' (L='+f'{L}'+', M='+f'{M}'+', N='+f'{N}'+').pdf', format='pdf')\n",
    "plt.show()\n",
    "\n",
    "Ascale = int(np.log(rho_final[int(M/2)])/np.log(10))\n",
    "print(f'A = {(rho_final[int(M/2)] / 10**Ascale):1f} * 10^({Ascale})')"
   ]
  }
 ],
 "metadata": {
  "kernelspec": {
   "display_name": "cupy-env",
   "language": "python",
   "name": "python3"
  },
  "language_info": {
   "codemirror_mode": {
    "name": "ipython",
    "version": 3
   },
   "file_extension": ".py",
   "mimetype": "text/x-python",
   "name": "python",
   "nbconvert_exporter": "python",
   "pygments_lexer": "ipython3",
   "version": "3.11.11"
  }
 },
 "nbformat": 4,
 "nbformat_minor": 5
}
